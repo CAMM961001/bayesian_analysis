{
 "cells": [
  {
   "cell_type": "markdown",
   "metadata": {},
   "source": [
    "### Configuración\n",
    "\n",
    "Primero se cargan las librerías necesarias para el desarrollo del _notebook_"
   ]
  },
  {
   "cell_type": "code",
   "execution_count": 1,
   "metadata": {},
   "outputs": [],
   "source": [
    "import os\n",
    "import numpy as np\n",
    "import pandas as pd\n",
    "import matplotlib.pyplot as plt\n",
    "\n",
    "from yaml import safe_load"
   ]
  },
  {
   "cell_type": "markdown",
   "metadata": {},
   "source": [
    "Ahora se definen rutas relativas al _notebook_, para una adecuada manipulación de archivos dentro del directorio raíz."
   ]
  },
  {
   "cell_type": "code",
   "execution_count": 2,
   "metadata": {},
   "outputs": [],
   "source": [
    "# Ruta a directorio raíz\n",
    "ROOT = os.path.dirname(os.getcwd())\n",
    "\n",
    "# Abrir archivo de configuración\n",
    "with open(file=os.path.join(ROOT, 'config.yml'), mode='r') as _file:\n",
    "    CONFIG = safe_load(_file)\n",
    "_file.close()"
   ]
  },
  {
   "cell_type": "markdown",
   "metadata": {},
   "source": [
    "# 1. Cadenas de Markov vía Monte Carlo\n",
    "\n",
    "Los métodos de Cadenas de Markov vía Monte Carlo (**MCMC**) son utilizados para **aproximar** la distribución posterior de un aplicación bajo enfoques Bayesianos.\n",
    "\n",
    "Por ejemplo, en el clásico ejemplo de inferir la probabilidad $\\theta$ de que una moneda resulte _Heads_ dado un conjunto de lanzamientos de la moneda, se pueden usar tres enfoques para conseguirlo:\n",
    "\n",
    "* **Solución analítica**: La distribución inicial se especifica con una función conjugada con su verosimilitud, lo cual resulta en una distribución posterior que tiene solución analítica. Desafortunadamente, existen de pocas a nulas aplicaciones que se puedan resolver de esta manera.\n",
    "* **Poblando el espacio parametral**: Conocemos el rango de valores que puede tomar el parámetro $\\theta$, con lo que se puede especificar un _gridspace_ que abarque el espacio parametral. La desventaja de este enfoque es que rápidamente se vuelve dificil poblar el espacio a medida que incremente el número de parámetros, este problema es conocido como la **maldición de dimensionalidad**\n",
    "* Cuando la aproximación mediante un _gridspace_ no es factible, entonces se utiizan los métodos MCMC\n",
    "\n",
    "Estos métodos suponen que la distribución inicial está especificada por una función que fácilmente puede ser evaluada, es decir, dado un valor $\\theta$ fácilmente se puede determinar $p(\\theta)$. Esto resulta en una aproximación de la distribución posterior en la forma de un número grande de valores de $\\theta$ muestreados aleatoriamente de la distribución.\n",
    "\n",
    "¿Cómo se pueden generar muestras representativas de la posterior sin conocerla?\n",
    "\n",
    "## 1.1. Algoritmo Metrópolis\n",
    "\n",
    "Revisar la **sección 7.2.** del libro _Doing Bayesian Data Analyis_, J. Kruschke, 2° Edición.\n",
    "\n",
    "### 1.1.1. Caminata Aleatoria\n",
    "\n",
    "Supón que una persona vive en un sistema de islas consecutivas, constántemente viaja de una a otra, y al final del día debe decidir si se mueve a una nueva isla o no, Esto se puede representar en tres decisiones:\n",
    "* Se queda en la isla en la que está actualmente,\n",
    "* Se mueve a la isla a la derecha.\n",
    "* Se mueve a la isla a la izquierda.\n",
    "\n",
    "El objetivo es visitar las islas proporcionalmente a la población de cada una de ellas, pero el problema es que no sabe la población de cada isla, y desconoce a ciencia cierta cuántas islas hay. Sin embargo, a medida que pasa por cada isla tiene capacidad de:\n",
    "* Preguntar la población de la isla en la que se encuentra.\n",
    "* Cuando se propone una nueva isla por visitar, se puede preguntar la población de la nueva isla.\n",
    "\n",
    "La heurística para decidir si se mueve o no es la siguiente:\n",
    "1. Lanza un volado con una moneda justa para escojer la nueva isla (derecha o izquierda).\n",
    "2. Si la nueva isla tiene una población más grande, se mueve sin dudar.\n",
    "3. Si la nueva isla tiene menor población, entonces decide si moverse con criterios probabilísticos dados por:\n",
    "    $$p_{mov}=\\frac{P_{nueva}}{P_{actual}}$$\n",
    "    \n",
    "    En donde:\n",
    "    * $P_{actual}$: Población de la isla actual.\n",
    "    * $P_{nueva}$: Población de la isla propuesta.\n",
    "    * $p_{mov}$: Probabilidad de moverse.\n",
    "4. Luego gira una perinola con valores marcados uniformemente a lo largo de su circunferencia.\n",
    "    * Si el valor de la perinola es menor a $p_{mov}$, se mueve.\n",
    "    * Si el valor de la perinola es mayor $p_{mov}$, se queda en la isla actual.\n",
    "\n",
    "### 1.1.2 Ejemplo de caminata aleatoria\n",
    "\n",
    "Consideraciones del problema:\n",
    "* Número de islas: 7\n",
    "* Las islas están indexadas consecutivamente, la isla más a la izquierda es $\\theta=1$, y la más a la derecha es $\\theta=7$.\n",
    "* La población relativa de las islas crece linealmente de modo que $P(\\theta)=\\theta$-\n",
    "* El viajero empieza en la isla número 4, pero esto lo desconoce."
   ]
  },
  {
   "cell_type": "code",
   "execution_count": null,
   "metadata": {},
   "outputs": [],
   "source": []
  }
 ],
 "metadata": {
  "kernelspec": {
   "display_name": "stan",
   "language": "python",
   "name": "python3"
  },
  "language_info": {
   "codemirror_mode": {
    "name": "ipython",
    "version": 3
   },
   "file_extension": ".py",
   "mimetype": "text/x-python",
   "name": "python",
   "nbconvert_exporter": "python",
   "pygments_lexer": "ipython3",
   "version": "3.11.4"
  }
 },
 "nbformat": 4,
 "nbformat_minor": 2
}
